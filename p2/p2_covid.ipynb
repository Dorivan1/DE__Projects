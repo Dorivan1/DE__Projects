{
 "cells": [
  {
   "cell_type": "markdown",
   "id": "5b505daf",
   "metadata": {},
   "source": [
    "# aws covid project"
   ]
  },
  {
   "cell_type": "markdown",
   "id": "1703e80d",
   "metadata": {},
   "source": [
    "# boto 3 is used to connect aws services\n",
    "# stringIO we want to encode our data into binary forms\n",
    "# panda is used for data manipulation and analysis for python\n"
   ]
  },
  {
   "cell_type": "code",
   "execution_count": null,
   "id": "bfbefdc3",
   "metadata": {},
   "outputs": [],
   "source": [
    "import boto3\n",
    "import pandas as pd\n",
    "from io import StringIO\n",
    "import time"
   ]
  },
  {
   "cell_type": "code",
   "execution_count": null,
   "id": "be694eee",
   "metadata": {},
   "outputs": [],
   "source": [
    "AWS_ACCESS_KEY = \"YOUR_AWS_ACCESS_KEY\"\n",
    "AWS_SECRET_KEY = \"YOUR_AWS_SECRET_KEY\"\n",
    "AWS_REGION = \"YOUR_AWS_REGION\"\n",
    "SCHEMA_NAME = \"covid_19\"\n",
    "S3_STAGING_DIR =\"s3://your-bucket-name/output/\"\n",
    "S3_BUCKET_NAME = \"your-bucket-name\"\n",
    "S3_OUTPUT_DIRECTORY = \"output\""
   ]
  },
  {
   "cell_type": "markdown",
   "id": "a5656002",
   "metadata": {},
   "source": [
    "# this codewill connect to athena"
   ]
  },
  {
   "cell_type": "code",
   "execution_count": null,
   "id": "3cd31144",
   "metadata": {},
   "outputs": [],
   "source": [
    "athena_client = boto3.client(\n",
    "    \"athena\",\n",
    "    aws_access_key_id = AWS_ACCESS_KEY,\n",
    "    aws_secret_access_key = AWS_SECRET_KEY,\n",
    "    region_name = AWS_REGION,\n",
    "\n",
    ")"
   ]
  },
  {
   "cell_type": "markdown",
   "id": "bb78f430",
   "metadata": {},
   "source": [
    "# this will take boto3 object + dictionary and it will go to athena and run some query then stores it into s3"
   ]
  },
  {
   "cell_type": "code",
   "execution_count": null,
   "id": "a192e046",
   "metadata": {},
   "outputs": [],
   "source": [
    "Dict = {}\n",
    "def download_and_load_query_results(\n",
    "    client: boto3.client, query_response: Dict\n",
    ") -> pd.DataFrame:\n",
    "    while True:\n",
    "        try:\n",
    "            #This function loads first 1000 rows\n",
    "            client.get_query_results(\n",
    "                QueryExecutionId = query_response[\"QueryExecutionId\"]\n",
    "            )\n",
    "            break\n",
    "        except Exception as err:\n",
    "            if \"not yet finished\" in str(err):\n",
    "                time.sleep(0.001)\n",
    "            else:\n",
    "                raise err\n",
    "    temp_file_location: str = \"athena_query_results.csv\"\n",
    "    s3_client = boto3.client(\n",
    "        \"s3\",\n",
    "        aws_access_key_id = AWS_ACCESS_KEY,\n",
    "        aws_secret_access_key = AWS_SECRET_KEY,\n",
    "        region_name = AWS_REGION,\n",
    "    \n",
    "    )\n",
    "    s3_client.download_file(\n",
    "        S3_BUCKET_NAME,\n",
    "        f\"{S3_OUTPUT_DIRECTORY}/{query_response['QueryExecutionId']}.csv\",\n",
    "        temp_file_location,\n",
    "    )\n",
    "\n",
    "    return pd.read_csv(temp_file_location)\n",
    "\n",
    "\n",
    "\n"
   ]
  },
  {
   "cell_type": "markdown",
   "id": "26ef24dc",
   "metadata": {},
   "source": [
    "# this code executes query with some parameters, like database and stuff like that"
   ]
  },
  {
   "cell_type": "code",
   "execution_count": null,
   "id": "28b5e542",
   "metadata": {},
   "outputs": [],
   "source": [
    "response = athena_client.start_query_execution(\n",
    "    QueryString = \"SELECT * FROM enigma_jhud\",\n",
    "    QueryExecutionContext = {\"Database\": SCHEMA_NAME},\n",
    "    ResultConfiguration = {\n",
    "        \"OutputLocation\": S3_STAGING_DIR,\n",
    "        \"EncryptionConfiguration\": {\"EncryptionOption\": \"SSE_S3\"},\n",
    "    },\n",
    ")"
   ]
  },
  {
   "cell_type": "code",
   "execution_count": null,
   "id": "cd23f2ee",
   "metadata": {},
   "outputs": [],
   "source": [
    "response\n"
   ]
  },
  {
   "cell_type": "code",
   "execution_count": null,
   "id": "a3a90d50",
   "metadata": {},
   "outputs": [],
   "source": [
    "enigma_jhud = download_and_load_query_results(athena_client, response)"
   ]
  },
  {
   "cell_type": "code",
   "execution_count": null,
   "id": "0cb5af52",
   "metadata": {},
   "outputs": [],
   "source": [
    "enigma_jhud.head()"
   ]
  },
  {
   "cell_type": "code",
   "execution_count": null,
   "id": "860e72f4",
   "metadata": {},
   "outputs": [],
   "source": [
    "response = athena_client.start_query_execution(\n",
    "    QueryString = \"SELECT * FROM hospitalorearc_usa_hospital_beds\",\n",
    "    QueryExecutionContext = {\"Database\": SCHEMA_NAME},\n",
    "    ResultConfiguration = {\n",
    "        \"OutputLocation\": S3_STAGING_DIR,\n",
    "        \"EncryptionConfiguration\": {\"EncryptionOption\": \"SSE_S3\"},\n",
    "    },\n",
    ")\n",
    "\n",
    "hospitalorearc_usa_hospital_beds = download_and_load_query_results(athena_client, response)"
   ]
  },
  {
   "cell_type": "code",
   "execution_count": null,
   "id": "90c6cc54",
   "metadata": {},
   "outputs": [],
   "source": [
    "hospitalorearc_usa_hospital_beds.head()"
   ]
  },
  {
   "cell_type": "code",
   "execution_count": null,
   "id": "d0d39bcb",
   "metadata": {},
   "outputs": [],
   "source": [
    "response = athena_client.start_query_execution(\n",
    "    QueryString = 'SELECT * FROM \"enigma-nytimes-data-in-usaus_county\"',\n",
    "    QueryExecutionContext = {\"Database\": SCHEMA_NAME},\n",
    "    ResultConfiguration = {\n",
    "        \"OutputLocation\": S3_STAGING_DIR,\n",
    "        \"EncryptionConfiguration\": {\"EncryptionOption\": \"SSE_S3\"},\n",
    "    },\n",
    ")\n",
    "enigma_nytimes_data_in_usaus_county = download_and_load_query_results(athena_client, response)"
   ]
  },
  {
   "cell_type": "code",
   "execution_count": null,
   "id": "c59717f1",
   "metadata": {},
   "outputs": [],
   "source": [
    "enigma_nytimes_data_in_usaus_county.head()"
   ]
  },
  {
   "cell_type": "code",
   "execution_count": null,
   "id": "e82bd4da",
   "metadata": {},
   "outputs": [],
   "source": [
    "response = athena_client.start_query_execution(\n",
    "    QueryString = 'SELECT * FROM \"enigma-nytimes-data-in-usaus_states\"',\n",
    "    QueryExecutionContext = {\"Database\": SCHEMA_NAME},\n",
    "    ResultConfiguration = {\n",
    "        \"OutputLocation\": S3_STAGING_DIR,\n",
    "        \"EncryptionConfiguration\": {\"EncryptionOption\": \"SSE_S3\"},\n",
    "    },\n",
    ")\n",
    "enigma_nytimes_data_in_usaus_states = download_and_load_query_results(athena_client, response)"
   ]
  },
  {
   "cell_type": "code",
   "execution_count": null,
   "id": "b3662705",
   "metadata": {},
   "outputs": [],
   "source": [
    "enigma_nytimes_data_in_usaus_states.head()"
   ]
  },
  {
   "cell_type": "code",
   "execution_count": null,
   "id": "480e8334",
   "metadata": {},
   "outputs": [],
   "source": [
    "response = athena_client.start_query_execution(\n",
    "    QueryString = 'SELECT * FROM \"states_daily\"',\n",
    "    QueryExecutionContext = {\"Database\": SCHEMA_NAME},\n",
    "    ResultConfiguration = {\n",
    "        \"OutputLocation\": S3_STAGING_DIR,\n",
    "        \"EncryptionConfiguration\": {\"EncryptionOption\": \"SSE_S3\"},\n",
    "    },\n",
    ")\n",
    "states_daily = download_and_load_query_results(athena_client, response)"
   ]
  },
  {
   "cell_type": "code",
   "execution_count": null,
   "id": "1c10d6b2",
   "metadata": {},
   "outputs": [],
   "source": [
    "states_daily.head()"
   ]
  },
  {
   "cell_type": "code",
   "execution_count": null,
   "id": "47880a6d",
   "metadata": {},
   "outputs": [],
   "source": [
    "response = athena_client.start_query_execution(\n",
    "    QueryString = 'SELECT * FROM \"rearc-covid-19-testing-data_states-us-total-latestus_total_latest\"',\n",
    "    QueryExecutionContext = {\"Database\": SCHEMA_NAME},\n",
    "    ResultConfiguration = {\n",
    "        \"OutputLocation\": S3_STAGING_DIR,\n",
    "        \"EncryptionConfiguration\": {\"EncryptionOption\": \"SSE_S3\"},\n",
    "    },\n",
    ")\n",
    "rearc_covid_19_testing_data_states_us_total_latestus_total_latest = download_and_load_query_results(athena_client, response)"
   ]
  },
  {
   "cell_type": "code",
   "execution_count": null,
   "id": "8e430911",
   "metadata": {},
   "outputs": [],
   "source": [
    "rearc_covid_19_testing_data_states_us_total_latestus_total_latest.head()"
   ]
  },
  {
   "cell_type": "code",
   "execution_count": null,
   "id": "fe2aac6a",
   "metadata": {},
   "outputs": [],
   "source": [
    "response = athena_client.start_query_execution(\n",
    "    QueryString = 'SELECT * FROM \"rearc-covid-19-testing-data_states-us_dailyus_daily\"',\n",
    "    QueryExecutionContext = {\"Database\": SCHEMA_NAME},\n",
    "    ResultConfiguration = {\n",
    "        \"OutputLocation\": S3_STAGING_DIR,\n",
    "        \"EncryptionConfiguration\": {\"EncryptionOption\": \"SSE_S3\"},\n",
    "    },\n",
    ")\n",
    "rearc_covid_19_testing_data_states_us_dailyus_daily = download_and_load_query_results(athena_client, response)"
   ]
  },
  {
   "cell_type": "code",
   "execution_count": null,
   "id": "5a08741c",
   "metadata": {},
   "outputs": [],
   "source": [
    "rearc_covid_19_testing_data_states_us_dailyus_daily.head()"
   ]
  },
  {
   "cell_type": "code",
   "execution_count": null,
   "id": "564aa04c",
   "metadata": {},
   "outputs": [],
   "source": [
    "response = athena_client.start_query_execution(\n",
    "    QueryString = 'SELECT * FROM \"data-countrycodecountrycode\"',\n",
    "    QueryExecutionContext = {\"Database\": SCHEMA_NAME},\n",
    "    ResultConfiguration = {\n",
    "        \"OutputLocation\": S3_STAGING_DIR,\n",
    "        \"EncryptionConfiguration\": {\"EncryptionOption\": \"SSE_S3\"},\n",
    "    },\n",
    ")\n",
    "data_countrycodecountrycode = download_and_load_query_results(athena_client, response)"
   ]
  },
  {
   "cell_type": "code",
   "execution_count": null,
   "id": "41e8a4a4",
   "metadata": {},
   "outputs": [],
   "source": [
    "data_countrycodecountrycode.head()"
   ]
  },
  {
   "cell_type": "code",
   "execution_count": null,
   "id": "2b87a5a4",
   "metadata": {},
   "outputs": [],
   "source": [
    "response = athena_client.start_query_execution(\n",
    "    QueryString = 'SELECT * FROM \"data-countrypopulationcountypopulation\"',\n",
    "    QueryExecutionContext = {\"Database\": SCHEMA_NAME},\n",
    "    ResultConfiguration = {\n",
    "        \"OutputLocation\": S3_STAGING_DIR,\n",
    "        \"EncryptionConfiguration\": {\"EncryptionOption\": \"SSE_S3\"},\n",
    "    },\n",
    ")\n",
    "data_countrypopulationcountypopulation = download_and_load_query_results(athena_client, response)"
   ]
  },
  {
   "cell_type": "code",
   "execution_count": null,
   "id": "e4b09405",
   "metadata": {},
   "outputs": [],
   "source": [
    "data_countrypopulationcountypopulation.head()"
   ]
  },
  {
   "cell_type": "code",
   "execution_count": null,
   "id": "8c9311cc",
   "metadata": {},
   "outputs": [],
   "source": [
    "response = athena_client.start_query_execution(\n",
    "    QueryString = 'SELECT * FROM \"data-state-abvstate_abv\"',\n",
    "    QueryExecutionContext = {\"Database\": SCHEMA_NAME},\n",
    "    ResultConfiguration = {\n",
    "        \"OutputLocation\": S3_STAGING_DIR,\n",
    "        \"EncryptionConfiguration\": {\"EncryptionOption\": \"SSE_S3\"},\n",
    "    },\n",
    ")\n",
    "data_state_abvstate_abv = download_and_load_query_results(athena_client, response)"
   ]
  },
  {
   "cell_type": "code",
   "execution_count": null,
   "id": "5d3b5e4e",
   "metadata": {},
   "outputs": [],
   "source": [
    "data_state_abvstate_abv.head()"
   ]
  },
  {
   "cell_type": "markdown",
   "id": "6cdcf922",
   "metadata": {},
   "source": [
    "# we did it for all tables  now we need to fix last tables sarting coloumns"
   ]
  },
  {
   "cell_type": "code",
   "execution_count": null,
   "id": "d0ad6aed",
   "metadata": {},
   "outputs": [],
   "source": [
    "new_header = data_state_abvstate_abv.iloc[0]\n",
    "data_state_abvstate_abv = data_state_abvstate_abv[1:]\n",
    "data_state_abvstate_abv.columns = new_header"
   ]
  },
  {
   "cell_type": "code",
   "execution_count": null,
   "id": "6d8f659f",
   "metadata": {},
   "outputs": [],
   "source": [
    "data_state_abvstate_abv.head()"
   ]
  },
  {
   "cell_type": "code",
   "execution_count": null,
   "id": "a9a3a8ac",
   "metadata": {},
   "outputs": [],
   "source": [
    "factCovid_1 = enigma_jhud[['fips','province_state', 'country_region', 'confirmed', 'deaths','recovered','active']]\n",
    "factCovid_2 = states_daily[['fips','date', 'positive', 'negative', 'hospitalizedcurrently','hospitalized','hospitalizeddischarged']]\n",
    "factCovid = pd.merge(factCovid_1, factCovid_2, on = 'fips', how = 'inner')"
   ]
  },
  {
   "cell_type": "code",
   "execution_count": null,
   "id": "fd7058f8",
   "metadata": {},
   "outputs": [],
   "source": [
    "factCovid.shape"
   ]
  },
  {
   "cell_type": "code",
   "execution_count": null,
   "id": "c717077f",
   "metadata": {},
   "outputs": [],
   "source": [
    "factCovid.head()"
   ]
  },
  {
   "cell_type": "code",
   "execution_count": null,
   "id": "1018e21c",
   "metadata": {},
   "outputs": [],
   "source": [
    "dimRegion_1 = enigma_jhud[['fips','province_state','country_region','latitude','longitude']]\n",
    "dimRegion_2 = enigma_nytimes_data_in_usaus_county[['fips','county','state']]\n",
    "dimRegion = pd.merge(dimRegion_1, dimRegion_2, on = 'fips', how = 'inner')"
   ]
  },
  {
   "cell_type": "code",
   "execution_count": null,
   "id": "be77b0d5",
   "metadata": {},
   "outputs": [],
   "source": [
    "dimHospital = hospitalorearc_usa_hospital_beds[['fips','state_name','latitude', 'longtitude', 'hq_address','hospital_name','hospital_type','hq_city','hq_state']]"
   ]
  },
  {
   "cell_type": "code",
   "execution_count": null,
   "id": "1f3ceb88",
   "metadata": {},
   "outputs": [],
   "source": [
    "dimDate = states_daily[['fips','date']]"
   ]
  },
  {
   "cell_type": "code",
   "execution_count": null,
   "id": "f40fa2f9",
   "metadata": {},
   "outputs": [],
   "source": [
    "dimDate.head()"
   ]
  },
  {
   "cell_type": "code",
   "execution_count": null,
   "id": "4920fc33",
   "metadata": {},
   "outputs": [],
   "source": [
    "dimDate['date'] = pd.to_datetime(dimDate['date'], format = '%Y%m%d')"
   ]
  },
  {
   "cell_type": "code",
   "execution_count": null,
   "id": "528f826f",
   "metadata": {},
   "outputs": [],
   "source": [
    "dimDate.head()"
   ]
  },
  {
   "cell_type": "code",
   "execution_count": null,
   "id": "66ac6ee3",
   "metadata": {},
   "outputs": [],
   "source": [
    "dimDate['year'] = dimDate['date'].dt.year\n",
    "dimDate['month'] = dimDate['date'].dt.month\n",
    "dimDate[\"day_of_week\"] = dimDate['date'].dt.dayofweek"
   ]
  },
  {
   "cell_type": "code",
   "execution_count": null,
   "id": "0169cd14",
   "metadata": {},
   "outputs": [],
   "source": [
    "dimDate.head()"
   ]
  },
  {
   "cell_type": "code",
   "execution_count": null,
   "id": "9cb1d606",
   "metadata": {},
   "outputs": [],
   "source": [
    "bucket = 'covid-19-project-dato' "
   ]
  },
  {
   "cell_type": "code",
   "execution_count": null,
   "id": "66ef0498",
   "metadata": {},
   "outputs": [],
   "source": [
    "csv_buffer = StringIO()"
   ]
  },
  {
   "cell_type": "code",
   "execution_count": null,
   "id": "cc31a426",
   "metadata": {},
   "outputs": [],
   "source": [
    "csv_buffer"
   ]
  },
  {
   "cell_type": "code",
   "execution_count": null,
   "id": "0c0fce18",
   "metadata": {},
   "outputs": [],
   "source": [
    "factCovid.to_csv(csv_buffer)"
   ]
  },
  {
   "cell_type": "code",
   "execution_count": null,
   "id": "6f785d7a",
   "metadata": {},
   "outputs": [],
   "source": [
    "s3_resource = boto3.resource('s3')\n",
    "s3_resource.Object(bucket, 'output/factCovid.csv').put(Body = csv_buffer.getvalue())"
   ]
  },
  {
   "cell_type": "code",
   "execution_count": null,
   "id": "c6a27e7c",
   "metadata": {},
   "outputs": [],
   "source": [
    "csv_buffer.getvalue()"
   ]
  },
  {
   "cell_type": "code",
   "execution_count": null,
   "id": "b7f1664b",
   "metadata": {
    "scrolled": true
   },
   "outputs": [],
   "source": [
    "!pip install awscli"
   ]
  },
  {
   "cell_type": "code",
   "execution_count": null,
   "id": "6d18d7a1",
   "metadata": {},
   "outputs": [],
   "source": [
    "!aws --version"
   ]
  },
  {
   "cell_type": "code",
   "execution_count": null,
   "id": "31db14cb",
   "metadata": {},
   "outputs": [],
   "source": [
    "!aws configure list"
   ]
  },
  {
   "cell_type": "code",
   "execution_count": null,
   "id": "87452e9e",
   "metadata": {},
   "outputs": [],
   "source": []
  },
  {
   "cell_type": "markdown",
   "id": "f12f925b",
   "metadata": {},
   "source": [
    "# I had an error uploading to s3 so I decided to do it manually"
   ]
  },
  {
   "cell_type": "code",
   "execution_count": null,
   "id": "7f8aa373",
   "metadata": {
    "scrolled": true
   },
   "outputs": [],
   "source": [
    "pip install redshift-connector"
   ]
  },
  {
   "cell_type": "code",
   "execution_count": null,
   "id": "fa637839",
   "metadata": {},
   "outputs": [],
   "source": [
    "import redshift_connector"
   ]
  },
  {
   "cell_type": "code",
   "execution_count": null,
   "id": "248c8bc4",
   "metadata": {
    "scrolled": false
   },
   "outputs": [],
   "source": [
    "conn = redshift_connector.connect(\n",
    "    host=\"<REDSHIFT_HOST>\",\n",
    "    database=\"<DATABASE_NAME>\",\n",
    "    user=\"<REDSHIFT_USER>\",\n",
    "    password=\"<REDSHIFT_PASSWORD>\",\n",
    ")"
   ]
  },
  {
   "cell_type": "code",
   "execution_count": null,
   "id": "8da50d14",
   "metadata": {},
   "outputs": [],
   "source": [
    "pip install psycopg2-binary"
   ]
  },
  {
   "cell_type": "markdown",
   "id": "f2f1c405",
   "metadata": {},
   "source": [
    "# I try to connect to aws redshift other way around cause I tried a lot but nothing worked"
   ]
  },
  {
   "cell_type": "markdown",
   "id": "23809b13",
   "metadata": {},
   "source": [
    "# hardcoding credentials again "
   ]
  },
  {
   "cell_type": "code",
   "execution_count": null,
   "id": "9a07b493",
   "metadata": {},
   "outputs": [],
   "source": [
    "redshift_endpoint1 = \"<REDSHIFT_HOST>\"\n",
    "redshift_user1 = \"<REDSHIFT_USER>\"\n",
    "redshift_pass1 = \"<REDSHIFT_PASSWORD>\"\n",
    "port1 = 5439\n",
    "dbname1 = \"<DATABASE_NAME>\""
   ]
  },
  {
   "cell_type": "markdown",
   "id": "0c925a15",
   "metadata": {},
   "source": [
    "# SQL code"
   ]
  },
  {
   "cell_type": "code",
   "execution_count": null,
   "id": "0c4cebe7",
   "metadata": {},
   "outputs": [],
   "source": [
    "sql = \"\"\"\n",
    "SELECT top 10 *\n",
    "FROM\n",
    "pg_user\n",
    ";\n",
    "\"\"\""
   ]
  },
  {
   "cell_type": "markdown",
   "id": "a5adc815",
   "metadata": {},
   "source": [
    "# creating the sql engine"
   ]
  },
  {
   "cell_type": "code",
   "execution_count": null,
   "id": "c9a4ff64",
   "metadata": {},
   "outputs": [],
   "source": [
    "from sqlalchemy import create_engine\n",
    "from sqlalchemy import text\n",
    "engine_string = \"postgresql+psycopg2://%s:%s@%s:%d/%s\" \\\n",
    "% (redshift_user1, redshift_pass1, redshift_endpoint1, port1, dbname1)\n",
    "engine1 = create_engine(engine_string)"
   ]
  },
  {
   "cell_type": "markdown",
   "id": "a75de78d",
   "metadata": {},
   "source": [
    "# Creating the dataframe using the Redshift Database"
   ]
  },
  {
   "cell_type": "code",
   "execution_count": null,
   "id": "183e9ce6",
   "metadata": {},
   "outputs": [],
   "source": [
    "df1 = pd.read_sql_query(text(sql), engine1)"
   ]
  },
  {
   "cell_type": "code",
   "execution_count": null,
   "id": "e33501fb",
   "metadata": {},
   "outputs": [],
   "source": [
    "df1.head()"
   ]
  },
  {
   "cell_type": "code",
   "execution_count": null,
   "id": "5302213b",
   "metadata": {},
   "outputs": [],
   "source": [
    "conn.autocommit = True"
   ]
  },
  {
   "cell_type": "code",
   "execution_count": null,
   "id": "780cf8c5",
   "metadata": {},
   "outputs": [],
   "source": [
    "cursor = redshift_connector.Cursor =conn.cursor()"
   ]
  },
  {
   "cell_type": "code",
   "execution_count": null,
   "id": "e63ceae3",
   "metadata": {},
   "outputs": [],
   "source": [
    "cursor.execute(\"\"\"\n",
    "CREATE TABLE \"dimDate\"(\n",
    "\"index\" INTEGER,\n",
    "\"fips\" INTEGER,\n",
    "\"date\" TIMESTAMP,\n",
    "\"year\" INTEGER,\n",
    "\"month\" INTEGER,\n",
    "\"day_of_week\" INTEGER\n",
    ")\n",
    "\n",
    "\"\"\")"
   ]
  },
  {
   "cell_type": "code",
   "execution_count": null,
   "id": "3afd3a37",
   "metadata": {},
   "outputs": [],
   "source": [
    "cursor.execute(\"\"\"\n",
    "CREATE TABLE \"dimHospital\"(\n",
    "\"index\" INTEGER,\n",
    "\"fips\" REAL,\n",
    "\"state_name\" TEXT,\n",
    "\"latitude\" REAL,\n",
    "\"longtitude\" REAL,\n",
    "\"hq_address\" TEXT,\n",
    "\"hospital_name\" TEXT,\n",
    "\"hospital_type\" TEXT,\n",
    "\"hq_city\" TEXT,\n",
    "\"hq_state\" TEXT\n",
    ")\n",
    "\"\"\")\n",
    "cursor.execute(\"\"\"\n",
    "CREATE TABLE \"factCovid\"(\n",
    "\"index\" INTEGER,\n",
    "\"fips\" REAL,\n",
    "\"province_state\" TEXT,\n",
    "\"country_region\" TEXT,\n",
    "\"confirmed\" REAL,\n",
    "\"deaths\" REAL,\n",
    "\"recovered\" REAL,\n",
    "\"active\" REAL,\n",
    "\"date\" INTEGER,\n",
    "\"positive\" REAL,\n",
    "\"negative\" REAL,\n",
    "\"hospitalizedcurrently\" REAL,\n",
    "\"hospitalized\" REAL,\n",
    "\"hospitalizeddischarged\" REAL\n",
    "\n",
    ")\n",
    "\n",
    "\"\"\")\n"
   ]
  },
  {
   "cell_type": "code",
   "execution_count": null,
   "id": "a5f8814d",
   "metadata": {},
   "outputs": [],
   "source": [
    "cursor.execute(\"\"\"\n",
    "    CREATE TABLE \"dimRegion\"(\n",
    "    \"index\" INTEGER,\n",
    "    \"fips\" REAL,\n",
    "    \"province_state\" TEXT,\n",
    "    \"country_region\" TEXT,\n",
    "    \"longitude\" REAL,\n",
    "    \"country\" TEXT,\n",
    "    \"state\" TEXT\n",
    "    )\"\"\"\n",
    ")"
   ]
  },
  {
   "cell_type": "code",
   "execution_count": null,
   "id": "845a31e6",
   "metadata": {},
   "outputs": [],
   "source": [
    "cursor.execute(\"\"\"\n",
    "COPY dimDate\n",
    "FROM 's3://covid-19-project-dato/output/dimDatecp.csv'\n",
    "CREDENTIALS 'aws_iam_role=arn:aws:iam::<ACCOUNT_ID>:role/redshift-s3-access'\n",
    "DELIMITER ','\n",
    "REGION 'eu-central-1'\n",
    "IGNOREHEADER 1\n",
    "\"\"\")"
   ]
  },
  {
   "cell_type": "code",
   "execution_count": null,
   "id": "3064b43e",
   "metadata": {},
   "outputs": [],
   "source": [
    "dimDatesql = pd.io.sql.get_schema(dimDate.reset_index(), 'dimDate')\n",
    "print(''.join(dimDatesql))"
   ]
  },
  {
   "cell_type": "code",
   "execution_count": null,
   "id": "40d0e8ef",
   "metadata": {},
   "outputs": [],
   "source": [
    "factCovidsql = pd.io.sql.get_schema(factCovid.reset_index(), 'factCovid')\n",
    "print(''.join(factCovidsql))"
   ]
  },
  {
   "cell_type": "code",
   "execution_count": null,
   "id": "93f90b32",
   "metadata": {},
   "outputs": [],
   "source": [
    "dimRegionsql = pd.io.sql.get_schema(dimRegion.reset_index(), 'dimRegion')\n",
    "print(''.join(dimRegionsql))"
   ]
  },
  {
   "cell_type": "code",
   "execution_count": null,
   "id": "3c9d40f6",
   "metadata": {},
   "outputs": [],
   "source": [
    "dimHospitalsql = pd.io.sql.get_schema(dimHospital.reset_index(), 'dimHospital')\n",
    "print(''.join(dimHospitalsql))"
   ]
  },
  {
   "cell_type": "code",
   "execution_count": null,
   "id": "a4b2c6a5",
   "metadata": {},
   "outputs": [],
   "source": [
    "cursor.execute(\"\"\"\n",
    "CREATE TABLE \"dimDate\" (\n",
    "  \"fips\" REAL,\n",
    "  \"date\" TIMESTAMP,\n",
    "  \"year\" INTEGER,\n",
    "  \"month\" INTEGER,\n",
    "  \"day_of_week\" INTEGER\n",
    ")\n",
    "\"\"\")"
   ]
  },
  {
   "cell_type": "code",
   "execution_count": null,
   "id": "400966b1",
   "metadata": {},
   "outputs": [],
   "source": [
    "cursor.execute(\"\"\"\n",
    "CREATE TABLE \"factCovid\" (\n",
    "  \"fips\" REAL,\n",
    "  \"province_state\" TEXT,\n",
    "  \"country_region\" TEXT,\n",
    "  \"confirmed\" REAL,\n",
    "  \"deaths\" REAL,\n",
    "  \"recovered\" REAL,\n",
    "  \"active\" REAL,\n",
    "  \"date\" INTEGER,\n",
    "  \"positive\" INTEGER,\n",
    "  \"negative\" REAL,\n",
    "  \"hospitalizedcurrently\" REAL,\n",
    "  \"hospitalized\" REAL,\n",
    "  \"hospitalizeddischarged\" REAL\n",
    ")\n",
    "\"\"\")"
   ]
  },
  {
   "cell_type": "code",
   "execution_count": null,
   "id": "273342a0",
   "metadata": {},
   "outputs": [],
   "source": [
    "cursor.execute(\"\"\"\n",
    "CREATE TABLE \"dimRegion\" (\n",
    "\n",
    "  \"fips\" REAL,\n",
    "  \"province_state\" TEXT,\n",
    "  \"country_region\" TEXT,\n",
    "  \"latitude\" REAL,\n",
    "  \"longitude\" REAL,\n",
    "  \"county\" TEXT,\n",
    "  \"state\" TEXT\n",
    ")\n",
    "\"\"\")"
   ]
  },
  {
   "cell_type": "code",
   "execution_count": null,
   "id": "34912e39",
   "metadata": {},
   "outputs": [],
   "source": [
    "cursor.execute(\"\"\"\n",
    "CREATE TABLE \"dimHospital\" (\n",
    "  \"fips\" REAL,\n",
    "  \"state_name\" TEXT,\n",
    "  \"latitude\" REAL,\n",
    "  \"longtitude\" REAL,\n",
    "  \"hq_address\" TEXT,\n",
    "  \"hospital_name\" TEXT,\n",
    "  \"hospital_type\" TEXT,\n",
    "  \"hq_city\" TEXT,\n",
    "  \"hq_state\" TEXT\n",
    ")\n",
    "\"\"\")"
   ]
  },
  {
   "cell_type": "code",
   "execution_count": null,
   "id": "55a492b1",
   "metadata": {},
   "outputs": [],
   "source": [
    "cursor.execute(\"\"\"\n",
    "COPY dimDate\n",
    "FROM 's3://covid-19-project-dato/output/dimDate.csv'\n",
    "CREDENTIALS 'aws_iam_role=arn:aws:iam::<ACCOUNT_ID>:role/redshift-s3-access'\n",
    "DELIMITER ','\n",
    "REGION 'eu-central-1'\n",
    "IGNOREHEADER 1\n",
    "\"\"\")"
   ]
  },
  {
   "cell_type": "code",
   "execution_count": null,
   "id": "14d86b5f",
   "metadata": {},
   "outputs": [],
   "source": [
    "cursor.execute(\"\"\"\n",
    "COPY dimHospital\n",
    "FROM 's3://covid-19-project-dato/output/dimHospital.csv'\n",
    "CREDENTIALS 'aws_iam_role=arn:aws:iam::<ACCOUNT_ID>:role/redshift-s3-access'\n",
    "DELIMITER ','\n",
    "REGION 'eu-central-1'\n",
    "IGNOREHEADER 1\n",
    "\"\"\")"
   ]
  },
  {
   "cell_type": "code",
   "execution_count": null,
   "id": "3d2167db",
   "metadata": {},
   "outputs": [],
   "source": [
    "cursor.execute(\"\"\"\n",
    "COPY dimRegion\n",
    "FROM 's3://covid-19-project-dato/output/dimRegion.csv'\n",
    "CREDENTIALS 'aws_iam_role=arn:aws:iam::<ACCOUNT_ID>:role/redshift-s3-access'\n",
    "DELIMITER ','\n",
    "REGION 'eu-central-1'\n",
    "IGNOREHEADER 1\n",
    "\"\"\")\n"
   ]
  },
  {
   "cell_type": "code",
   "execution_count": null,
   "id": "2e57d95e",
   "metadata": {},
   "outputs": [],
   "source": [
    "cursor.execute(\"\"\"\n",
    "COPY factCovid\n",
    "FROM 's3://covid-19-project-dato/output/factCovid.csv'\n",
    "CREDENTIALS 'aws_iam_role=arn:aws:iam::<ACCOUNT_ID>:role/redshift-s3-access'\n",
    "DELIMITER ','\n",
    "REGION 'eu-central-1'\n",
    "IGNOREHEADER 1\n",
    "\"\"\")"
   ]
  },
  {
   "cell_type": "code",
   "execution_count": null,
   "id": "026d4b86",
   "metadata": {},
   "outputs": [],
   "source": []
  }
 ],
 "metadata": {
  "kernelspec": {
   "display_name": "Python 3 (ipykernel)",
   "language": "python",
   "name": "python3"
  },
  "language_info": {
   "codemirror_mode": {
    "name": "ipython",
    "version": 3
   },
   "file_extension": ".py",
   "mimetype": "text/x-python",
   "name": "python",
   "nbconvert_exporter": "python",
   "pygments_lexer": "ipython3",
   "version": "3.11.5"
  }
 },
 "nbformat": 4,
 "nbformat_minor": 5
}
